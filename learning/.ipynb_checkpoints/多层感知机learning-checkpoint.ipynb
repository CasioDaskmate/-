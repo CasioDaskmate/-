{
 "cells": [
  {
   "cell_type": "markdown",
   "id": "fa22b56b",
   "metadata": {},
   "source": [
    "# 多层感知机的从零开始实现"
   ]
  },
  {
   "cell_type": "markdown",
   "id": "32f692aa",
   "metadata": {},
   "source": [
    "用那个fashion图像分类做例子"
   ]
  },
  {
   "cell_type": "code",
   "execution_count": null,
   "id": "17fceb97",
   "metadata": {},
   "outputs": [],
   "source": []
  }
 ],
 "metadata": {
  "kernelspec": {
   "display_name": "Python 3 (ipykernel)",
   "language": "python",
   "name": "python3"
  },
  "language_info": {
   "codemirror_mode": {
    "name": "ipython",
    "version": 3
   },
   "file_extension": ".py",
   "mimetype": "text/x-python",
   "name": "python",
   "nbconvert_exporter": "python",
   "pygments_lexer": "ipython3",
   "version": "3.9.5"
  }
 },
 "nbformat": 4,
 "nbformat_minor": 5
}
